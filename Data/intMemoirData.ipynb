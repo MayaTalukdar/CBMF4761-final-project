{
 "cells": [
  {
   "cell_type": "markdown",
   "metadata": {},
   "source": [
    "# Fun with Newick Data"
   ]
  },
  {
   "cell_type": "code",
   "execution_count": 1,
   "metadata": {},
   "outputs": [],
   "source": [
    "import io\n",
    "import pandas as pd\n",
    "from Bio import Phylo"
   ]
  },
  {
   "cell_type": "markdown",
   "metadata": {},
   "source": [
    "### 1. Lets take a look at the intMemoir dataset:"
   ]
  },
  {
   "cell_type": "code",
   "execution_count": 52,
   "metadata": {},
   "outputs": [
    {
     "data": {
      "text/html": [
       "<div>\n",
       "<style scoped>\n",
       "    .dataframe tbody tr th:only-of-type {\n",
       "        vertical-align: middle;\n",
       "    }\n",
       "\n",
       "    .dataframe tbody tr th {\n",
       "        vertical-align: top;\n",
       "    }\n",
       "\n",
       "    .dataframe thead th {\n",
       "        text-align: right;\n",
       "    }\n",
       "</style>\n",
       "<table border=\"1\" class=\"dataframe\">\n",
       "  <thead>\n",
       "    <tr style=\"text-align: right;\">\n",
       "      <th></th>\n",
       "      <th>fileNumber</th>\n",
       "      <th>fileName</th>\n",
       "      <th>dreamID</th>\n",
       "      <th>nCells</th>\n",
       "      <th>ground</th>\n",
       "      <th>rec</th>\n",
       "    </tr>\n",
       "  </thead>\n",
       "  <tbody>\n",
       "    <tr>\n",
       "      <th>0</th>\n",
       "      <td>2</td>\n",
       "      <td>s1_c2_data</td>\n",
       "      <td>1</td>\n",
       "      <td>4</td>\n",
       "      <td>((1_2012210001:29,2_2012210001:29):51,(3_22122...</td>\n",
       "      <td>(((1_2012210001:0.2845811716,2_2012210001:0.28...</td>\n",
       "    </tr>\n",
       "    <tr>\n",
       "      <th>1</th>\n",
       "      <td>4</td>\n",
       "      <td>s10_c2_data</td>\n",
       "      <td>2</td>\n",
       "      <td>19</td>\n",
       "      <td>(((((1_1111211121:5,2_1111211121:5):47,(3_1112...</td>\n",
       "      <td>((((5_0110212021:28.57142857,6_0110212021:28.5...</td>\n",
       "    </tr>\n",
       "    <tr>\n",
       "      <th>2</th>\n",
       "      <td>5</td>\n",
       "      <td>s10_c3_data</td>\n",
       "      <td>3</td>\n",
       "      <td>20</td>\n",
       "      <td>(((((1_2112211021:18,2_2112211021:18):44,(3_21...</td>\n",
       "      <td>(((23_2112210021:80,(8_2112211021:70,(7_211221...</td>\n",
       "    </tr>\n",
       "    <tr>\n",
       "      <th>3</th>\n",
       "      <td>8</td>\n",
       "      <td>s11_c1_data</td>\n",
       "      <td>4</td>\n",
       "      <td>6</td>\n",
       "      <td>((1_2202210001:61,2_2202000001:61):124,((3_222...</td>\n",
       "      <td>(((1_2202210001:0.4059306243,2_2202000001:0.40...</td>\n",
       "    </tr>\n",
       "    <tr>\n",
       "      <th>4</th>\n",
       "      <td>10</td>\n",
       "      <td>s12_c2_data</td>\n",
       "      <td>5</td>\n",
       "      <td>4</td>\n",
       "      <td>((1_2102111000:15,2_2100111000:15):52,(3_21001...</td>\n",
       "      <td>(1_2102111000:0.5032868538,(2_2100111000:0.393...</td>\n",
       "    </tr>\n",
       "  </tbody>\n",
       "</table>\n",
       "</div>"
      ],
      "text/plain": [
       "   fileNumber     fileName  dreamID  nCells  \\\n",
       "0           2   s1_c2_data        1       4   \n",
       "1           4  s10_c2_data        2      19   \n",
       "2           5  s10_c3_data        3      20   \n",
       "3           8  s11_c1_data        4       6   \n",
       "4          10  s12_c2_data        5       4   \n",
       "\n",
       "                                              ground  \\\n",
       "0  ((1_2012210001:29,2_2012210001:29):51,(3_22122...   \n",
       "1  (((((1_1111211121:5,2_1111211121:5):47,(3_1112...   \n",
       "2  (((((1_2112211021:18,2_2112211021:18):44,(3_21...   \n",
       "3  ((1_2202210001:61,2_2202000001:61):124,((3_222...   \n",
       "4  ((1_2102111000:15,2_2100111000:15):52,(3_21001...   \n",
       "\n",
       "                                                 rec  \n",
       "0  (((1_2012210001:0.2845811716,2_2012210001:0.28...  \n",
       "1  ((((5_0110212021:28.57142857,6_0110212021:28.5...  \n",
       "2  (((23_2112210021:80,(8_2112211021:70,(7_211221...  \n",
       "3  (((1_2202210001:0.4059306243,2_2202000001:0.40...  \n",
       "4  (1_2102111000:0.5032868538,(2_2100111000:0.393...  "
      ]
     },
     "execution_count": 52,
     "metadata": {},
     "output_type": "execute_result"
    }
   ],
   "source": [
    "pd.read_csv('Dream_data_intMemoir.csv', sep = '\\t').head()"
   ]
  },
  {
   "cell_type": "markdown",
   "metadata": {},
   "source": [
    "This is a 106x6 DataFrame, with the following columns:  \n",
    "**fileName**: File source.  \n",
    "**dreamID**: The number of the entry represents the ID of that tree and should match other files.  \n",
    "**nCells**: The number of cells that survived for the whole experiment and hence have readout i.e. The number of leaves in the tree.  \n",
    "**ground**: The actual tree, this is the ground truth validated using a time-lapse of the growing colony of cells and is manually curated. The ground truth lineage tree is provided as a Newick File. The cell ID links the barcode to the Newick file.  \n",
    "**rec** The reconstructed lineage using the sister-likelihood method. Newick format.\n"
   ]
  },
  {
   "cell_type": "markdown",
   "metadata": {},
   "source": [
    "### 2. Parsing out what we need:  \n",
    "Let's define some functions/classes to extract what we actually need for our alignment problem."
   ]
  },
  {
   "cell_type": "code",
   "execution_count": 53,
   "metadata": {},
   "outputs": [],
   "source": [
    "def Barcode_Dict(tree):\n",
    "    '''given a tree in Newick format, returns dictionary of type cell:barcode'''\n",
    "    barcode_dict = dict()\n",
    "    tree_nodes = Phylo.read(io.StringIO(tree), 'newick').get_terminals()\n",
    "    for i in range(len(tree_nodes)):\n",
    "        name_code = tree_nodes[i].name.split('_')\n",
    "        barcode_dict[name_code[0]] = name_code[1]\n",
    "    \n",
    "    return barcode_dict\n",
    "\n",
    "def Barcode_DF(data):\n",
    "    '''returns DataFrame of dreamID: barcode dictionary'''\n",
    "    name_code_frame = data[['dreamID','ground']]\n",
    "    name_code_frame.iloc[:,1] = name_code_frame['ground'].apply(Barcode_Dict)\n",
    "    name_code_frame = name_code_frame.rename(\n",
    "            columns = {'dreamID':'dreamID', 'ground': 'CellBarcodes'}\n",
    "        )\n",
    "        \n",
    "    return name_code_frame\n",
    "\n",
    "def Barcode_Lists(bc_df):\n",
    "    '''Given a Barcode_DF product, return list of lists'''\n",
    "    cellBarcodes = bc_df['CellBarcodes'].to_list()\n",
    "    bc_list = []\n",
    "    for i in range(len(cellBarcodes)):\n",
    "        bc_list.append(list(cellBarcodes[i].values()))\n",
    "    return bc_list\n",
    "    \n",
    "class Cell_Data:\n",
    "    \n",
    "    def __init__(self, file_name):\n",
    "        \n",
    "        data = pd.read_csv(file_name, sep = '\\t')\n",
    "        train_set = data[30:]\n",
    "        test_set = data[:30]\n",
    "        self.train = Barcode_DF(train_set) #76x2 DF\n",
    "        self.true_train = train_set[['dreamID','ground']]\n",
    "        self.true_test = test_set[['dreamID','ground']]\n",
    "        self.test = Barcode_DF(test_set) #30x2 DF\n",
    "        \n",
    "    def Train(self):\n",
    "        return Barcode_Lists(self.train)\n",
    "    def Test(self):\n",
    "        return Barcode_Lists(self.test)\n",
    "    \n",
    "    def get_ground(self, code_list):\n",
    "        '''Given a list of cells from Train/Test methods, return Newick formatted Lineage'''\n",
    "        in_train = True\n",
    "        mask = [code_list == list(some_dict.values()) for some_dict in self.train['CellBarcodes']]\n",
    "        if mask.count(True) == 0:\n",
    "            mask = [code_list == list(some_dict.values()) for some_dict in self.test['CellBarcodes']]\n",
    "            in_train = False\n",
    "        if in_train:\n",
    "            return self.true_train[mask]['ground'].item()\n",
    "        else:\n",
    "            return self.true_test[mask]['ground'].item()\n",
    "        \n",
    "    def get_id(self, code_list):\n",
    "        '''Given a list of cells from Train/Test methods, return dreamID'''\n",
    "        in_train = True\n",
    "        mask = [code_list == list(some_dict.values()) for some_dict in self.train['CellBarcodes']]\n",
    "        if mask.count(True) == 0:\n",
    "            mask = [code_list == list(some_dict.values()) for some_dict in self.test['CellBarcodes']]\n",
    "            in_train = False\n",
    "        if in_train:\n",
    "            return self.true_train[mask]['dreamID'].item()\n",
    "        else:\n",
    "            return self.true_test[mask]['dreamID'].item()\n",
    "        \n",
    "cell_data = Cell_Data('Dream_data_intMemoir.csv')"
   ]
  },
  {
   "cell_type": "code",
   "execution_count": 70,
   "metadata": {},
   "outputs": [
    {
     "name": "stdout",
     "output_type": "stream",
     "text": [
      "Example of Cell:Barcode set as defined by the DREAM challenge:\n",
      "{'1': '2012212021', '2': '2112212021', '3': '2112212021', '4': '2112212021', '5': '0012212221', '6': '0012012221', '8': '2120010021', '9': '2120010021', '10': '0112212221'}\n",
      "\n",
      "List of barcodes in a given set:\n",
      "['2012212021', '2112212021', '2112212021', '2112212021', '0012212221', '0012012221', '2120010021', '2120010021', '0112212221']\n",
      "\n",
      "Newick format for above case:\n",
      "((((1_2012212021:8,2_2112212021:8):38,(3_2112212021:4,4_2112212021:4):42):42,(5_0012212221:1,6_0012012221:1):87):46,((8_2120010021:22,9_2120010021:22):51,10_0112212221:74):62);\n"
     ]
    },
    {
     "name": "stderr",
     "output_type": "stream",
     "text": [
      "//anaconda3/lib/python3.7/site-packages/ipykernel_launcher.py:54: FutureWarning: `item` has been deprecated and will be removed in a future version\n"
     ]
    }
   ],
   "source": [
    "#using this class:\n",
    "train_case = cell_data.Train()[0]\n",
    "test_case = cell_data.Test()[0]\n",
    "print('Example of Cell:Barcode set as defined by the DREAM challenge:')\n",
    "print(cell_data.train['CellBarcodes'][30])\n",
    "print()\n",
    "print('List of barcodes in a given set:')\n",
    "print(train_case)\n",
    "print()\n",
    "print('Newick format for above case:')\n",
    "print(cell_data.get_ground(test))"
   ]
  },
  {
   "cell_type": "markdown",
   "metadata": {},
   "source": [
    "### 3. Visualizing Newick-formatted Trees"
   ]
  },
  {
   "cell_type": "code",
   "execution_count": 55,
   "metadata": {},
   "outputs": [
    {
     "name": "stderr",
     "output_type": "stream",
     "text": [
      "//anaconda3/lib/python3.7/site-packages/ipykernel_launcher.py:54: FutureWarning: `item` has been deprecated and will be removed in a future version\n"
     ]
    },
    {
     "data": {
      "image/png": "[encoded data removed]",
      "text/plain": [
       "<Figure size 432x288 with 1 Axes>"
      ]
     },
     "metadata": {
      "needs_background": "light"
     },
     "output_type": "display_data"
    },
    {
     "name": "stdout",
     "output_type": "stream",
     "text": [
      "None\n"
     ]
    },
    {
     "name": "stderr",
     "output_type": "stream",
     "text": [
      "//anaconda3/lib/python3.7/site-packages/ipykernel_launcher.py:56: FutureWarning: `item` has been deprecated and will be removed in a future version\n"
     ]
    },
    {
     "data": {
      "image/png": "[encoded data removed]",
      "text/plain": [
       "<Figure size 432x288 with 1 Axes>"
      ]
     },
     "metadata": {
      "needs_background": "light"
     },
     "output_type": "display_data"
    },
    {
     "name": "stdout",
     "output_type": "stream",
     "text": [
      "None\n"
     ]
    }
   ],
   "source": [
    "def showTree(tree):\n",
    "    '''Given string of Newick fromat, draw tree'''\n",
    "    instance = Phylo.read(io.StringIO(tree), 'newick')\n",
    "    print(Phylo.draw(instance))\n",
    "\n",
    "showTree(cell_data.get_ground(train_case))\n",
    "showTree(cell_data.get_ground(test_case))"
   ]
  },
  {
   "cell_type": "code",
   "execution_count": null,
   "metadata": {},
   "outputs": [],
   "source": []
  }
 ],
 "metadata": {
  "kernelspec": {
   "display_name": "Python 3",
   "language": "python",
   "name": "python3"
  },
  "language_info": {
   "codemirror_mode": {
    "name": "ipython",
    "version": 3
   },
   "file_extension": ".py",
   "mimetype": "text/x-python",
   "name": "python",
   "nbconvert_exporter": "python",
   "pygments_lexer": "ipython3",
   "version": "3.7.3"
  }
 },
 "nbformat": 4,
 "nbformat_minor": 2
}
