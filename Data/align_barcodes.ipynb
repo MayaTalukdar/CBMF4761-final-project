{
  "nbformat": 4,
  "nbformat_minor": 0,
  "metadata": {
    "colab": {
      "name": "align_barcodes.ipynb",
      "provenance": [],
      "collapsed_sections": []
    },
    "kernelspec": {
      "name": "python3",
      "display_name": "Python 3"
    }
  },
  "cells": [
    {
      "cell_type": "markdown",
      "metadata": {
        "id": "oSj9jLwZi1kU",
        "colab_type": "text"
      },
      "source": [
        "#Alignment of Barcodes"
      ]
    },
    {
      "cell_type": "code",
      "metadata": {
        "id": "R4ePdJ5wq50D",
        "colab_type": "code",
        "colab": {}
      },
      "source": [
        "from scipy.cluster.hierarchy import dendrogram, linkage\n",
        "from scipy.spatial.distance import squareform\n",
        "import matplotlib.pyplot as plt\n",
        "import numpy as np\n"
      ],
      "execution_count": 0,
      "outputs": []
    },
    {
      "cell_type": "markdown",
      "metadata": {
        "id": "I5YPLTHdlGzx",
        "colab_type": "text"
      },
      "source": [
        "These are the four barcodes in DreamID 1:"
      ]
    },
    {
      "cell_type": "code",
      "metadata": {
        "id": "lUNpZCivklJt",
        "colab_type": "code",
        "colab": {}
      },
      "source": [
        "barcode = ['2012210001', '2012210001', '2212210001', '2112210001']"
      ],
      "execution_count": 0,
      "outputs": []
    },
    {
      "cell_type": "markdown",
      "metadata": {
        "id": "8khoDMM5TbLE",
        "colab_type": "text"
      },
      "source": [
        "Define a hypothetical scoring matrix:"
      ]
    },
    {
      "cell_type": "code",
      "metadata": {
        "id": "BjBJxpFkxbLg",
        "colab_type": "code",
        "outputId": "488f825a-3759-4035-e323-0e27e8bbf06f",
        "colab": {
          "base_uri": "https://localhost:8080/",
          "height": 70
        }
      },
      "source": [
        "score_matrix = np.array([[2,6,10],[6,0,4],[10,4,3]])\n",
        "score_matrix"
      ],
      "execution_count": 0,
      "outputs": [
        {
          "output_type": "execute_result",
          "data": {
            "text/plain": [
              "array([[ 2,  6, 10],\n",
              "       [ 6,  0,  4],\n",
              "       [10,  4,  3]])"
            ]
          },
          "metadata": {
            "tags": []
          },
          "execution_count": 49
        }
      ]
    },
    {
      "cell_type": "markdown",
      "metadata": {
        "id": "P54AKQfNok-t",
        "colab_type": "text"
      },
      "source": [
        "Define a simple \"alignment\" function for aligning the two bardes: \n",
        "(Note: since we don;t need to deal with gaps here, DP is no longer necessary)"
      ]
    },
    {
      "cell_type": "code",
      "metadata": {
        "id": "kBBR5KpMpNdO",
        "colab_type": "code",
        "colab": {}
      },
      "source": [
        "def global_alignment(x, y):\n",
        "    #The inital state is 1111111111\n",
        "\n",
        "    score = 0 # alignment score\n",
        "    score_matrix = np.array([[2,6,10],[6,0,4],[10,4,3]])\n",
        "    symbol = ''\n",
        "\n",
        "    for i in range(10):\n",
        "        score += score_matrix[int(x[i]), int(y[i])] # update score\n",
        "        if x[i] == y[i]:\n",
        "            symbol += '|'\n",
        "        else:\n",
        "            symbol += '.'\n",
        "\n",
        "    return x, symbol, y, score\n"
      ],
      "execution_count": 0,
      "outputs": []
    },
    {
      "cell_type": "markdown",
      "metadata": {
        "id": "famZD019TzmZ",
        "colab_type": "text"
      },
      "source": [
        "Aligning a pair of barcodes:"
      ]
    },
    {
      "cell_type": "code",
      "metadata": {
        "id": "s-WKMF4MpP9K",
        "colab_type": "code",
        "outputId": "1dde9abf-f87a-4698-fa89-0c571702af15",
        "colab": {
          "base_uri": "https://localhost:8080/",
          "height": 88
        }
      },
      "source": [
        "xalign, symbol ,yalign, score = global_alignment(barcode[2],barcode[3])\n",
        "print(xalign)\n",
        "print(symbol)\n",
        "print(yalign)\n",
        "print(\"score:\", score)"
      ],
      "execution_count": 0,
      "outputs": [
        {
          "output_type": "stream",
          "text": [
            "2212210001\n",
            "|.||||||||\n",
            "2112210001\n",
            "score: 19\n"
          ],
          "name": "stdout"
        }
      ]
    },
    {
      "cell_type": "markdown",
      "metadata": {
        "id": "QkDWaDTToyYy",
        "colab_type": "text"
      },
      "source": [
        "Run all pairwise alignments for a set of barcodes, then save the result in a symmetrical matrix:"
      ]
    },
    {
      "cell_type": "code",
      "metadata": {
        "id": "52OrO04Lo773",
        "colab_type": "code",
        "outputId": "4a901df8-97a5-4269-c418-78f41195e004",
        "colab": {
          "base_uri": "https://localhost:8080/",
          "height": 88
        }
      },
      "source": [
        "distance_matrix = np.zeros([len(barcode),len(barcode)], dtype=int)\n",
        "\n",
        "for i in range(len(barcode)):\n",
        "    for j in range(i+1, len(barcode)):\n",
        "        xalign, symbol ,yalign, score = global_alignment(barcode[i], barcode[j])\n",
        "        distance_matrix[i,j] = score\n",
        "        distance_matrix[j,i] = score\n",
        "\n",
        "distance_matrix\n"
      ],
      "execution_count": 0,
      "outputs": [
        {
          "output_type": "execute_result",
          "data": {
            "text/plain": [
              "array([[ 0, 17, 25, 21],\n",
              "       [17,  0, 25, 21],\n",
              "       [25, 25,  0, 19],\n",
              "       [21, 21, 19,  0]])"
            ]
          },
          "metadata": {
            "tags": []
          },
          "execution_count": 52
        }
      ]
    },
    {
      "cell_type": "markdown",
      "metadata": {
        "id": "S72exvjYtSKp",
        "colab_type": "text"
      },
      "source": [
        "Generate the dendrogram:"
      ]
    },
    {
      "cell_type": "code",
      "metadata": {
        "id": "PZFrXONRqKGE",
        "colab_type": "code",
        "outputId": "48f5c5fa-b4fb-4645-91d0-66c56dbb187b",
        "colab": {
          "base_uri": "https://localhost:8080/",
          "height": 281
        }
      },
      "source": [
        "dists = squareform(distance_matrix)\n",
        "linkage_matrix = linkage(dists, \"single\")\n",
        "dendrogram(linkage_matrix, labels=[\"Cell1\", \"Cell2\", \"Cell3\", \"Cell4\"], orientation='left')\n",
        "plt.title(\"DreamID = 1, reconstructed\")\n",
        "plt.show()"
      ],
      "execution_count": 0,
      "outputs": [
        {
          "output_type": "display_data",
          "data": {
            "image/png": "[encoded data removed]",
            "text/plain": [
              "<Figure size 432x288 with 1 Axes>"
            ]
          },
          "metadata": {
            "tags": []
          }
        }
      ]
    }
  ]
}