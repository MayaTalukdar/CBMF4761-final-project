{
  "nbformat": 4,
  "nbformat_minor": 0,
  "metadata": {
    "colab": {
      "name": "align_barcodes.ipynb",
      "provenance": [],
      "collapsed_sections": []
    },
    "kernelspec": {
      "name": "python3",
      "display_name": "Python 3"
    }
  },
  "cells": [
    {
      "cell_type": "code",
      "metadata": {
        "id": "XM3UkOLK64iR",
        "colab_type": "code",
        "colab": {
          "base_uri": "https://localhost:8080/",
          "height": 35
        },
        "outputId": "003fa79b-041b-4385-b6e1-b8f093f4571d"
      },
      "source": [
        "#@title Mount Google Drive (You don't need to run this if you are running notebooks on your laptop)\n",
        "\n",
        "from google.colab import drive\n",
        "\n",
        "# The following command will prompt a URL for you to click and obtain the\n",
        "# authorization code\n",
        "\n",
        "drive.mount(\"/content/drive\")"
      ],
      "execution_count": 76,
      "outputs": [
        {
          "output_type": "stream",
          "text": [
            "Drive already mounted at /content/drive; to attempt to forcibly remount, call drive.mount(\"/content/drive\", force_remount=True).\n"
          ],
          "name": "stdout"
        }
      ]
    },
    {
      "cell_type": "code",
      "metadata": {
        "id": "HkJAkTTp7MIY",
        "colab_type": "code",
        "colab": {}
      },
      "source": [
        "from pathlib import Path\n",
        "\n",
        "# Change this to where you download the files\n",
        "DATA = Path(\"/content/drive/My Drive/comp_genomics\")"
      ],
      "execution_count": 0,
      "outputs": []
    },
    {
      "cell_type": "code",
      "metadata": {
        "id": "4cj7-WsjYtPB",
        "colab_type": "code",
        "colab": {
          "base_uri": "https://localhost:8080/",
          "height": 212
        },
        "outputId": "8cbe2545-b6c5-4716-cdbe-460ac025b17d"
      },
      "source": [
        "!pip install dendropy\n",
        "!pip install Biopython"
      ],
      "execution_count": 72,
      "outputs": [
        {
          "output_type": "stream",
          "text": [
            "Collecting dendropy\n",
            "\u001b[?25l  Downloading https://files.pythonhosted.org/packages/f5/21/17e4fbb1c2a68421eec43930b1e118660c7483229f1b28ba4402e8856884/DendroPy-4.4.0.tar.gz (15.2MB)\n",
            "\u001b[K     |████████████████████████████████| 15.2MB 3.7MB/s \n",
            "\u001b[?25hRequirement already satisfied: setuptools in /usr/local/lib/python3.6/dist-packages (from dendropy) (46.0.0)\n",
            "Building wheels for collected packages: dendropy\n",
            "  Building wheel for dendropy (setup.py) ... \u001b[?25l\u001b[?25hdone\n",
            "  Created wheel for dendropy: filename=DendroPy-4.4.0-cp36-none-any.whl size=442139 sha256=d0298350b91483fc21fa693a5e50b974827c0d05f546884e5ac5b59b3271887a\n",
            "  Stored in directory: /root/.cache/pip/wheels/88/76/d0/90381494189528abc27fab0faa25bf960143460963daae7ba7\n",
            "Successfully built dendropy\n",
            "Installing collected packages: dendropy\n",
            "Successfully installed dendropy-4.4.0\n"
          ],
          "name": "stdout"
        }
      ]
    },
    {
      "cell_type": "code",
      "metadata": {
        "id": "B6aJvxHn9Uni",
        "colab_type": "code",
        "colab": {}
      },
      "source": [
        "from scipy.cluster.hierarchy import dendrogram, linkage\n",
        "from scipy.spatial.distance import squareform\n",
        "import pandas as pd\n",
        "import matplotlib.pyplot as plt\n",
        "import numpy as np\n",
        "import dendropy"
      ],
      "execution_count": 0,
      "outputs": []
    },
    {
      "cell_type": "code",
      "metadata": {
        "id": "RSeT7QP6-Qn4",
        "colab_type": "code",
        "colab": {
          "base_uri": "https://localhost:8080/",
          "height": 844
        },
        "outputId": "c9b570e1-136d-4ff6-b4f8-44fbf9624bf8"
      },
      "source": [
        "#import functions from intMemoirData.ipynb\n",
        "%cd /content/drive/My Drive/comp_genomics\n",
        "%run intMemoirData_v2.ipynb"
      ],
      "execution_count": 78,
      "outputs": [
        {
          "output_type": "stream",
          "text": [
            "/content/drive/My Drive/comp_genomics\n"
          ],
          "name": "stdout"
        },
        {
          "output_type": "stream",
          "text": [
            "/usr/local/lib/python3.6/dist-packages/pandas/core/indexing.py:966: SettingWithCopyWarning: \n",
            "A value is trying to be set on a copy of a slice from a DataFrame.\n",
            "Try using .loc[row_indexer,col_indexer] = value instead\n",
            "\n",
            "See the caveats in the documentation: https://pandas.pydata.org/pandas-docs/stable/user_guide/indexing.html#returning-a-view-versus-a-copy\n",
            "  self.obj[item] = s\n"
          ],
          "name": "stderr"
        },
        {
          "output_type": "stream",
          "text": [
            "Example of Cell:Barcode set as defined by the DREAM challenge:\n",
            "{'1': '2012212021', '2': '2112212021', '3': '2112212021', '4': '2112212021', '5': '0012212221', '6': '0012012221', '8': '2120010021', '9': '2120010021', '10': '0112212221'}\n",
            "\n",
            "List of barcodes in a given set:\n",
            "['2012212021', '2112212021', '2112212021', '2112212021', '0012212221', '0012012221', '2120010021', '2120010021', '0112212221']\n",
            "\n",
            "Newick format for above case:\n",
            "((1_2012210001:29,2_2012210001:29):51,(3_2212210001:29,4_2112210001:29):51);\n"
          ],
          "name": "stdout"
        },
        {
          "output_type": "display_data",
          "data": {
            "image/png": "[encoded data removed]",
            "text/plain": [
              "<Figure size 432x288 with 1 Axes>"
            ]
          },
          "metadata": {
            "tags": []
          }
        },
        {
          "output_type": "stream",
          "text": [
            "None\n"
          ],
          "name": "stdout"
        },
        {
          "output_type": "display_data",
          "data": {
            "image/png": "[encoded data removed]",
            "text/plain": [
              "<Figure size 432x288 with 1 Axes>"
            ]
          },
          "metadata": {
            "tags": []
          }
        },
        {
          "output_type": "stream",
          "text": [
            "None\n"
          ],
          "name": "stdout"
        }
      ]
    },
    {
      "cell_type": "markdown",
      "metadata": {
        "id": "oSj9jLwZi1kU",
        "colab_type": "text"
      },
      "source": [
        "#Alignment of Barcodes"
      ]
    },
    {
      "cell_type": "markdown",
      "metadata": {
        "id": "I5YPLTHdlGzx",
        "colab_type": "text"
      },
      "source": [
        "These are the four barcodes in DreamID 1:"
      ]
    },
    {
      "cell_type": "code",
      "metadata": {
        "id": "lUNpZCivklJt",
        "colab_type": "code",
        "colab": {}
      },
      "source": [
        "barcode_1 = ['2012210001', '2012210001', '2212210001', '2112210001']"
      ],
      "execution_count": 0,
      "outputs": []
    },
    {
      "cell_type": "markdown",
      "metadata": {
        "id": "8khoDMM5TbLE",
        "colab_type": "text"
      },
      "source": [
        "Define a hypothetical scoring matrix:"
      ]
    },
    {
      "cell_type": "code",
      "metadata": {
        "id": "BjBJxpFkxbLg",
        "colab_type": "code",
        "outputId": "738353df-468a-43c4-ca15-26cb88043027",
        "colab": {
          "base_uri": "https://localhost:8080/",
          "height": 70
        }
      },
      "source": [
        "score_matrix = np.array([[2,6,10],[6,0,4],[10,4,3]])\n",
        "score_matrix"
      ],
      "execution_count": 80,
      "outputs": [
        {
          "output_type": "execute_result",
          "data": {
            "text/plain": [
              "array([[ 2,  6, 10],\n",
              "       [ 6,  0,  4],\n",
              "       [10,  4,  3]])"
            ]
          },
          "metadata": {
            "tags": []
          },
          "execution_count": 80
        }
      ]
    },
    {
      "cell_type": "markdown",
      "metadata": {
        "id": "P54AKQfNok-t",
        "colab_type": "text"
      },
      "source": [
        "Define a simple \"alignment\" function for aligning the two bardes: \n",
        "(Note: since we don;t need to deal with gaps here, DP is no longer necessary)"
      ]
    },
    {
      "cell_type": "code",
      "metadata": {
        "id": "kBBR5KpMpNdO",
        "colab_type": "code",
        "colab": {}
      },
      "source": [
        "def global_alignment(x, y):\n",
        "    #The inital state is 1111111111\n",
        "\n",
        "    score = 0 # alignment score\n",
        "    score_matrix = np.array([[2,6,10],[6,0,4],[10,4,3]])\n",
        "    symbol = ''\n",
        "\n",
        "    for i in range(10):\n",
        "        score += score_matrix[int(x[i]), int(y[i])] # update score\n",
        "        if x[i] == y[i]:\n",
        "            symbol += '|'\n",
        "        else:\n",
        "            symbol += '.'\n",
        "\n",
        "    return x, symbol, y, score\n"
      ],
      "execution_count": 0,
      "outputs": []
    },
    {
      "cell_type": "markdown",
      "metadata": {
        "id": "famZD019TzmZ",
        "colab_type": "text"
      },
      "source": [
        "Aligning a pair of barcodes:"
      ]
    },
    {
      "cell_type": "code",
      "metadata": {
        "id": "s-WKMF4MpP9K",
        "colab_type": "code",
        "outputId": "1e3ab9e6-a1b1-4942-8c56-c08f4dfc3029",
        "colab": {
          "base_uri": "https://localhost:8080/",
          "height": 88
        }
      },
      "source": [
        "xalign, symbol ,yalign, score = global_alignment(barcode_1[2],barcode_1[3])\n",
        "print(xalign)\n",
        "print(symbol)\n",
        "print(yalign)\n",
        "print(\"score:\", score)"
      ],
      "execution_count": 82,
      "outputs": [
        {
          "output_type": "stream",
          "text": [
            "2212210001\n",
            "|.||||||||\n",
            "2112210001\n",
            "score: 19\n"
          ],
          "name": "stdout"
        }
      ]
    },
    {
      "cell_type": "markdown",
      "metadata": {
        "id": "QkDWaDTToyYy",
        "colab_type": "text"
      },
      "source": [
        "Run all pairwise alignments for a set of barcodes, then save the result in a symmetrical matrix:"
      ]
    },
    {
      "cell_type": "code",
      "metadata": {
        "id": "u7Gbd4l8BFAK",
        "colab_type": "code",
        "colab": {}
      },
      "source": [
        "def generate_dendrogram(barcode, score_matrix):\n",
        "    distance_matrix = np.zeros([len(barcode),len(barcode)], dtype=int)\n",
        "    # pairwise alignment\n",
        "    for i in range(len(barcode)):\n",
        "      for j in range(i+1, len(barcode)):\n",
        "        xalign, symbol ,yalign, score = global_alignment(barcode[i], barcode[j])\n",
        "        distance_matrix[i,j] = score\n",
        "        distance_matrix[j,i] = score\n",
        "    # generate dendrogram\n",
        "    dists = squareform(distance_matrix)\n",
        "    linkage_matrix = linkage(dists, \"single\")\n",
        "    leafsname = [str(y)+'_'+x for x,y in zip(barcode, range(1,len(barcode)+1))]\n",
        "    plt = dendrogram(linkage_matrix, labels=leafsname, orientation='left')\n",
        "\n",
        "    return plt,distance_matrix, linkage_matrix, leafsname"
      ],
      "execution_count": 0,
      "outputs": []
    },
    {
      "cell_type": "code",
      "metadata": {
        "id": "rb98XBOQBzZo",
        "colab_type": "code",
        "colab": {
          "base_uri": "https://localhost:8080/",
          "height": 265
        },
        "outputId": "b037c206-bc48-4929-e6ba-05243bfd3132"
      },
      "source": [
        "plot, dists, links, leafsname = generate_dendrogram(barcode_1, score_matrix)"
      ],
      "execution_count": 173,
      "outputs": [
        {
          "output_type": "display_data",
          "data": {
            "image/png": "[encoded data removed]",
            "text/plain": [
              "<Figure size 432x288 with 1 Axes>"
            ]
          },
          "metadata": {
            "tags": []
          }
        }
      ]
    },
    {
      "cell_type": "code",
      "metadata": {
        "id": "kCNV7Pe0COA5",
        "colab_type": "code",
        "colab": {
          "base_uri": "https://localhost:8080/",
          "height": 88
        },
        "outputId": "339bb1a4-428b-440f-ffbf-0fb862723cac"
      },
      "source": [
        "dists # distance matrix"
      ],
      "execution_count": 86,
      "outputs": [
        {
          "output_type": "execute_result",
          "data": {
            "text/plain": [
              "array([[ 0, 17, 25, 21],\n",
              "       [17,  0, 25, 21],\n",
              "       [25, 25,  0, 19],\n",
              "       [21, 21, 19,  0]])"
            ]
          },
          "metadata": {
            "tags": []
          },
          "execution_count": 86
        }
      ]
    },
    {
      "cell_type": "code",
      "metadata": {
        "id": "BViFylrLCQbj",
        "colab_type": "code",
        "colab": {
          "base_uri": "https://localhost:8080/",
          "height": 70
        },
        "outputId": "16eee206-3625-473a-f5f6-2a008abbd46a"
      },
      "source": [
        "links # linkage matrix"
      ],
      "execution_count": 87,
      "outputs": [
        {
          "output_type": "execute_result",
          "data": {
            "text/plain": [
              "array([[ 0.,  1., 17.,  2.],\n",
              "       [ 2.,  3., 19.,  2.],\n",
              "       [ 4.,  5., 21.,  4.]])"
            ]
          },
          "metadata": {
            "tags": []
          },
          "execution_count": 87
        }
      ]
    },
    {
      "cell_type": "code",
      "metadata": {
        "id": "UMaZZnLPiIar",
        "colab_type": "code",
        "colab": {
          "base_uri": "https://localhost:8080/",
          "height": 35
        },
        "outputId": "4d41eecb-e21f-471f-8b38-fa555632c2bf"
      },
      "source": [
        "leafsname # leaves' names"
      ],
      "execution_count": 111,
      "outputs": [
        {
          "output_type": "execute_result",
          "data": {
            "text/plain": [
              "['1_2012210001', '2_2012210001', '3_2212210001', '4_2112210001']"
            ]
          },
          "metadata": {
            "tags": []
          },
          "execution_count": 111
        }
      ]
    },
    {
      "cell_type": "markdown",
      "metadata": {
        "id": "FxA4X-X6FMhr",
        "colab_type": "text"
      },
      "source": [
        "# Performance Evaluation"
      ]
    },
    {
      "cell_type": "markdown",
      "metadata": {
        "id": "FSGOx_XcHGpT",
        "colab_type": "text"
      },
      "source": [
        "## 1. Create cell_data, cautious for file IO here:"
      ]
    },
    {
      "cell_type": "code",
      "metadata": {
        "id": "zP1ybUu8Fu8v",
        "colab_type": "code",
        "colab": {
          "base_uri": "https://localhost:8080/",
          "height": 124
        },
        "outputId": "ca015e64-3b17-4fc4-e416-d8a6cb70621f"
      },
      "source": [
        "cell_data = Cell_Data('DREAM_data_intMEMOIR.csv')"
      ],
      "execution_count": 88,
      "outputs": [
        {
          "output_type": "stream",
          "text": [
            "/usr/local/lib/python3.6/dist-packages/pandas/core/indexing.py:966: SettingWithCopyWarning: \n",
            "A value is trying to be set on a copy of a slice from a DataFrame.\n",
            "Try using .loc[row_indexer,col_indexer] = value instead\n",
            "\n",
            "See the caveats in the documentation: https://pandas.pydata.org/pandas-docs/stable/user_guide/indexing.html#returning-a-view-versus-a-copy\n",
            "  self.obj[item] = s\n"
          ],
          "name": "stderr"
        }
      ]
    },
    {
      "cell_type": "code",
      "metadata": {
        "id": "QkjFW_GkGk9U",
        "colab_type": "code",
        "colab": {
          "base_uri": "https://localhost:8080/",
          "height": 230
        },
        "outputId": "b52e6ba0-1194-4725-b27d-19680ba6ec31"
      },
      "source": [
        "cell_data.train['CellBarcodes']"
      ],
      "execution_count": 89,
      "outputs": [
        {
          "output_type": "execute_result",
          "data": {
            "text/plain": [
              "30     {'1': '2012212021', '2': '2112212021', '3': '2...\n",
              "31     {'1': '1112212001', '2': '1112212001', '3': '1...\n",
              "32     {'1': '2120211221', '2': '2120212221', '3': '2...\n",
              "33     {'1': '2102111221', '2': '2102111221', '3': '2...\n",
              "34     {'1': '0101001001', '2': '2101101000', '3': '2...\n",
              "                             ...                        \n",
              "101    {'1': '2110111221', '2': '2110111221', '3': '2...\n",
              "102    {'1': '2112011221', '2': '2112211200', '3': '2...\n",
              "103    {'1': '1112111111', '3': '1112111001', '4': '2...\n",
              "104    {'1': '1111000011', '2': '0111111111', '3': '1...\n",
              "105    {'2': '2100011021', '3': '0112211221', '4': '0...\n",
              "Name: CellBarcodes, Length: 76, dtype: object"
            ]
          },
          "metadata": {
            "tags": []
          },
          "execution_count": 89
        }
      ]
    },
    {
      "cell_type": "markdown",
      "metadata": {
        "id": "-Dx-VrD0i7-P",
        "colab_type": "text"
      },
      "source": [
        "## 2. Reconstruct dendrogram drom barcodes"
      ]
    },
    {
      "cell_type": "markdown",
      "metadata": {
        "id": "K1lETClcHFVe",
        "colab_type": "text"
      },
      "source": [
        "Use the first train set as an example:"
      ]
    },
    {
      "cell_type": "code",
      "metadata": {
        "id": "aq0NmtorFQhx",
        "colab_type": "code",
        "colab": {
          "base_uri": "https://localhost:8080/",
          "height": 106
        },
        "outputId": "658be5a3-1198-4271-d649-d5eccb11f1c2"
      },
      "source": [
        "# Here the first train_case has id = 30\n",
        "train_case = cell_data.Train()[0]\n",
        "print('Example of Cell:Barcode set as defined by the DREAM challenge:')\n",
        "print(cell_data.train['CellBarcodes'][30])\n",
        "print()\n",
        "print('List of barcodes in a given set:')\n",
        "print(train_case)"
      ],
      "execution_count": 90,
      "outputs": [
        {
          "output_type": "stream",
          "text": [
            "Example of Cell:Barcode set as defined by the DREAM challenge:\n",
            "{'1': '2012212021', '2': '2112212021', '3': '2112212021', '4': '2112212021', '5': '0012212221', '6': '0012012221', '8': '2120010021', '9': '2120010021', '10': '0112212221'}\n",
            "\n",
            "List of barcodes in a given set:\n",
            "['2012212021', '2112212021', '2112212021', '2112212021', '0012212221', '0012012221', '2120010021', '2120010021', '0112212221']\n"
          ],
          "name": "stdout"
        }
      ]
    },
    {
      "cell_type": "markdown",
      "metadata": {
        "id": "OMm58z1bHBrq",
        "colab_type": "text"
      },
      "source": [
        "Check the ground truth tree:"
      ]
    },
    {
      "cell_type": "code",
      "metadata": {
        "id": "ZN4nY871HAVT",
        "colab_type": "code",
        "colab": {
          "base_uri": "https://localhost:8080/",
          "height": 297
        },
        "outputId": "59935b67-8b33-48a1-a9a4-eef78347a0b0"
      },
      "source": [
        "instance = showTree(cell_data.get_ground(train_case))"
      ],
      "execution_count": 91,
      "outputs": [
        {
          "output_type": "display_data",
          "data": {
            "image/png": "[encoded data removed]",
            "text/plain": [
              "<Figure size 432x288 with 1 Axes>"
            ]
          },
          "metadata": {
            "tags": []
          }
        },
        {
          "output_type": "stream",
          "text": [
            "None\n"
          ],
          "name": "stdout"
        }
      ]
    },
    {
      "cell_type": "markdown",
      "metadata": {
        "id": "1-vPAI8gHSeL",
        "colab_type": "text"
      },
      "source": [
        "Generate dendrogram based on the hypothetical score_matrix:"
      ]
    },
    {
      "cell_type": "code",
      "metadata": {
        "id": "ekqd25SpHa8m",
        "colab_type": "code",
        "colab": {
          "base_uri": "https://localhost:8080/",
          "height": 265
        },
        "outputId": "24d66a97-8b00-44a4-e061-cdf758fdb1d1"
      },
      "source": [
        "plot, dists, links, leafsname = generate_dendrogram(train_case, score_matrix) # train_case is just a list of barcodes"
      ],
      "execution_count": 186,
      "outputs": [
        {
          "output_type": "display_data",
          "data": {
            "image/png": "[encoded data removed]",
            "text/plain": [
              "<Figure size 432x288 with 1 Axes>"
            ]
          },
          "metadata": {
            "tags": []
          }
        }
      ]
    },
    {
      "cell_type": "markdown",
      "metadata": {
        "id": "rqRHQwl8j4JF",
        "colab_type": "text"
      },
      "source": [
        "## 3. Convert into \"Tree\" object and get RF score"
      ]
    },
    {
      "cell_type": "markdown",
      "metadata": {
        "id": "ESDj_zyFnGgV",
        "colab_type": "text"
      },
      "source": [
        "The Robinson-Foulds distance between two trees T1 and T2 with n tips is defined as (following the notation Steel and Penny 1993):\n",
        "\n",
        "d\n",
        "(\n",
        "T\n",
        "1\n",
        ",\n",
        "T\n",
        "2\n",
        ")\n",
        "=\n",
        "i\n",
        "(\n",
        "T\n",
        "1\n",
        ")\n",
        "+\n",
        "i\n",
        "(\n",
        "T\n",
        "2\n",
        ")\n",
        "−\n",
        "2\n",
        "v\n",
        "s\n",
        "(\n",
        "T\n",
        "1\n",
        ",\n",
        "T\n",
        "2\n",
        ")\n",
        "\n",
        "where \n",
        "i\n",
        "(\n",
        "T\n",
        "1\n",
        ")\n",
        " denotes the number of internal edges and \n",
        "v\n",
        "s\n",
        "(\n",
        "T\n",
        "1\n",
        ",\n",
        "T\n",
        "2\n",
        ")\n",
        " denotes the number of internal splits shared by the two trees. The **normalized Robinson-Foulds distance** is derived by dividing \n",
        "d\n",
        "(\n",
        "T\n",
        "1\n",
        ",\n",
        "T\n",
        "2\n",
        ")\n",
        " by the maximal possible distance \n",
        "i\n",
        "(\n",
        "T\n",
        "1\n",
        ")\n",
        "+\n",
        "i\n",
        "(\n",
        "T\n",
        "2\n",
        ")\n",
        ". \n",
        "\n",
        "Functions like RF.dist returns the Robinson-Foulds distance (Robinson and Foulds 1981) between either 2 trees or computes a matrix of all pairwise distances if a multiPhylo object is given.\n",
        "\n",
        "For large number of trees the distance functions can use a lot of memory!"
      ]
    },
    {
      "cell_type": "markdown",
      "metadata": {
        "id": "a8Qu04uKZc3Q",
        "colab_type": "text"
      },
      "source": [
        "Convert the ground-truth tree in Newick format into a \"tree\" object for `dendropy`:"
      ]
    },
    {
      "cell_type": "code",
      "metadata": {
        "id": "kSyUvq66Zdmi",
        "colab_type": "code",
        "colab": {
          "base_uri": "https://localhost:8080/",
          "height": 355
        },
        "outputId": "36348763-eb29-435b-e9ed-2f5f0bf658e6"
      },
      "source": [
        "tns = dendropy.TaxonNamespace()\n",
        "Ti = dendropy.Tree.get(data = cell_data.get_ground(train_case), schema=\"newick\", taxon_namespace=tns)\n",
        "Ti.print_plot()"
      ],
      "execution_count": 182,
      "outputs": [
        {
          "output_type": "stream",
          "text": [
            "                                                /---------------- 1 2012212021 \n",
            "                                /---------------+                              \n",
            "                                |               \\---------------- 2 2112212021 \n",
            "                /---------------+                                              \n",
            "                |               |               /---------------- 3 2112212021 \n",
            "                |               \\---------------+                              \n",
            "/---------------+                               \\---------------- 4 2112212021 \n",
            "|               |                                                              \n",
            "|               |                               /---------------- 5 0012212221 \n",
            "|               \\-------------------------------+                              \n",
            "+                                               \\---------------- 6 0012012221 \n",
            "|                                                                              \n",
            "|                                               /---------------- 8 2120010021 \n",
            "|                               /---------------+                              \n",
            "\\-------------------------------+               \\---------------- 9 2120010021 \n",
            "                                |                                              \n",
            "                                \\-------------------------------- 10 0112212221\n",
            "                                                                               \n",
            "                                                                               \n"
          ],
          "name": "stdout"
        }
      ]
    },
    {
      "cell_type": "markdown",
      "metadata": {
        "id": "iQzk7TdLjHgY",
        "colab_type": "text"
      },
      "source": [
        "Covert the reconstructed dendrogram into \"Tree\" object for `dendropy`:"
      ]
    },
    {
      "cell_type": "code",
      "metadata": {
        "id": "F31a1XpQc6EB",
        "colab_type": "code",
        "colab": {}
      },
      "source": [
        "from scipy.cluster import hierarchy\n",
        "def getNewick(node, newick, parentdist, leaf_names):\n",
        "    if node.is_leaf():\n",
        "        return \"%s:%.2f%s\" % (leaf_names[node.id], parentdist - node.dist, newick)\n",
        "    else:\n",
        "        if len(newick) > 0:\n",
        "            newick = \"):%.2f%s\" % (parentdist - node.dist, newick)\n",
        "        else:\n",
        "            newick = \");\"\n",
        "        newick = getNewick(node.get_left(), newick, node.dist, leaf_names)\n",
        "        newick = getNewick(node.get_right(), \",%s\" % (newick), node.dist, leaf_names)\n",
        "        newick = \"(%s\" % (newick)\n",
        "        return newick"
      ],
      "execution_count": 0,
      "outputs": []
    },
    {
      "cell_type": "code",
      "metadata": {
        "id": "4EKahnBujQ9i",
        "colab_type": "code",
        "colab": {
          "base_uri": "https://localhost:8080/",
          "height": 355
        },
        "outputId": "c4ad2eb7-cb90-405f-c449-4ed35bc4c8ab"
      },
      "source": [
        "tree = hierarchy.to_tree(links,False) # put in the linkage matrix got from generate_dendrogram\n",
        "tree_newick = getNewick(tree, \"\", tree.dist, leafsname) # Also put in the leaf names we have\n",
        "Tj = dendropy.Tree.get(data = tree_newick, schema=\"newick\", taxon_namespace=tns) # convert to tree object\n",
        "Tj.print_plot()"
      ],
      "execution_count": 187,
      "outputs": [
        {
          "output_type": "stream",
          "text": [
            "                                                    /------------- 9 0112212221\n",
            "                                       /------------+                          \n",
            "             /-------------------------+            \\------------- 5 0012212221\n",
            "             |                         |                                       \n",
            "             |                         \\-------------------------- 6 0012012221\n",
            "             |                                                                 \n",
            "/------------+                                      /------------- 3 2112212021\n",
            "|            |                         /------------+                          \n",
            "|            |            /------------+            \\------------- 2 2112212021\n",
            "|            |            |            |                                       \n",
            "+            \\------------+            \\-------------------------- 4 2112212021\n",
            "|                         |                                                    \n",
            "|                         \\--------------------------------------- 1 2012212021\n",
            "|                                                                              \n",
            "|                                                   /------------- 8 2120010021\n",
            "\\---------------------------------------------------+                          \n",
            "                                                    \\------------- 7 2120010021\n",
            "                                                                               \n",
            "                                                                               \n"
          ],
          "name": "stdout"
        }
      ]
    },
    {
      "cell_type": "markdown",
      "metadata": {
        "id": "02HLkkifcldw",
        "colab_type": "text"
      },
      "source": [
        "Returns unweighted Robinson-Foulds distance between two trees:"
      ]
    },
    {
      "cell_type": "code",
      "metadata": {
        "id": "Jf5pO-NJckov",
        "colab_type": "code",
        "colab": {
          "base_uri": "https://localhost:8080/",
          "height": 35
        },
        "outputId": "9e9bdfd8-f2d7-4440-cf91-0ff0053b0b57"
      },
      "source": [
        "# the same tree produces RF distance = 0\n",
        "dendropy.calculate.treecompare.unweighted_robinson_foulds_distance(Ti, Ti, is_bipartitions_updated=False)"
      ],
      "execution_count": 149,
      "outputs": [
        {
          "output_type": "execute_result",
          "data": {
            "text/plain": [
              "0"
            ]
          },
          "metadata": {
            "tags": []
          },
          "execution_count": 149
        }
      ]
    },
    {
      "cell_type": "markdown",
      "metadata": {
        "id": "0CPTyXWamjXu",
        "colab_type": "text"
      },
      "source": [
        "Compare the ground-truth and the reconstructed"
      ]
    },
    {
      "cell_type": "code",
      "metadata": {
        "colab_type": "code",
        "outputId": "cf47874a-9cc5-4eec-ae2d-54add14f3f06",
        "id": "HD_4JCPZkQwy",
        "colab": {
          "base_uri": "https://localhost:8080/",
          "height": 35
        }
      },
      "source": [
        "# Compare the ground-truth and the reconstructed\n",
        "dendropy.calculate.treecompare.unweighted_robinson_foulds_distance(Ti, Tj, is_bipartitions_updated=False)"
      ],
      "execution_count": 189,
      "outputs": [
        {
          "output_type": "execute_result",
          "data": {
            "text/plain": [
              "18"
            ]
          },
          "metadata": {
            "tags": []
          },
          "execution_count": 189
        }
      ]
    },
    {
      "cell_type": "markdown",
      "metadata": {
        "id": "Ucl_cQa7zVhs",
        "colab_type": "text"
      },
      "source": [
        "wrap up into function:"
      ]
    },
    {
      "cell_type": "code",
      "metadata": {
        "id": "DRuuuE29y9Q7",
        "colab_type": "code",
        "colab": {}
      },
      "source": [
        "def get_RF(train_case, linkage, leafsname):\n",
        "    tns = dendropy.TaxonNamespace()\n",
        "    Ti = dendropy.Tree.get(data = cell_data.get_ground(train_case), schema=\"newick\", taxon_namespace=tns)\n",
        "    tree = hierarchy.to_tree(linkage,False) # put in the linkage matrix got from generate_dendrogram\n",
        "    tree_newick = getNewick(tree, \"\", tree.dist, leafsname) # Also put in the leaf names we have\n",
        "    Tj = dendropy.Tree.get(data = tree_newick, schema=\"newick\", taxon_namespace=tns)\n",
        "    rf = dendropy.calculate.treecompare.unweighted_robinson_foulds_distance(Ti, Tj, is_bipartitions_updated=False)\n",
        "    return rf"
      ],
      "execution_count": 0,
      "outputs": []
    },
    {
      "cell_type": "code",
      "metadata": {
        "id": "_smdbP8bzYcR",
        "colab_type": "code",
        "colab": {
          "base_uri": "https://localhost:8080/",
          "height": 35
        },
        "outputId": "450df76b-bcea-4de2-9f6f-f367723be492"
      },
      "source": [
        "get_RF(train_case, links, leafsname)"
      ],
      "execution_count": 191,
      "outputs": [
        {
          "output_type": "execute_result",
          "data": {
            "text/plain": [
              "18"
            ]
          },
          "metadata": {
            "tags": []
          },
          "execution_count": 191
        }
      ]
    }
  ]
}